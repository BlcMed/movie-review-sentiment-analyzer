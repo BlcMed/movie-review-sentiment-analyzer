{
 "cells": [
  {
   "cell_type": "markdown",
   "metadata": {},
   "source": [
    "---\n",
    "# Modelling\n",
    "---"
   ]
  },
  {
   "cell_type": "markdown",
   "metadata": {},
   "source": [
    "Import libraries and load data"
   ]
  },
  {
   "cell_type": "code",
   "execution_count": 13,
   "metadata": {},
   "outputs": [],
   "source": [
    "from pyspark.sql import SparkSession\n",
    "from pyspark.sql.functions import split\n",
    "from pyspark.ml.feature import VectorAssembler\n",
    "from pyspark.ml.classification import LogisticRegression\n",
    "from pyspark.ml.classification import LinearSVC\n",
    "from pyspark.ml.classification import NaiveBayes\n",
    "from pyspark.ml.evaluation import BinaryClassificationEvaluator\n",
    "from pyspark.ml.evaluation import MulticlassClassificationEvaluator\n",
    "from sklearn.metrics import roc_curve\n",
    "import matplotlib.pyplot as plt\n",
    "import pandas as pd"
   ]
  },
  {
   "cell_type": "code",
   "execution_count": 3,
   "metadata": {},
   "outputs": [],
   "source": [
    "DATA_PATH=\"../data/raw/aclImdb_v1/aclImdb/train/\"\n",
    "PROCESSED_DATA_PATH=\"../data/processed/\"\n",
    "RANDOM_SEED=42"
   ]
  },
  {
   "cell_type": "code",
   "execution_count": 2,
   "metadata": {},
   "outputs": [],
   "source": [
    "# Initialisez la session Spark\n",
    "spark = SparkSession.builder \\\n",
    "    .appName(\" traitement BoW puis Tf-IDF avec PySpark\") \\\n",
    "    .getOrCreate()"
   ]
  },
  {
   "cell_type": "markdown",
   "metadata": {},
   "source": [
    "# BOW"
   ]
  },
  {
   "cell_type": "code",
   "execution_count": 4,
   "metadata": {},
   "outputs": [],
   "source": [
    "bow_df=pd.read_csv(PROCESSED_DATA_PATH+\"bow_df.csv\")"
   ]
  },
  {
   "cell_type": "code",
   "execution_count": 50,
   "metadata": {
    "scrolled": false
   },
   "outputs": [
    {
     "name": "stdout",
     "output_type": "stream",
     "text": [
      "+----------+--------------------+--------------------+-----+\n",
      "|Unnamed: 0|        tokens_array|            features|Label|\n",
      "+----------+--------------------+--------------------+-----+\n",
      "|         0|['panic', 'street...|(87968,[0,2,3,4,5...|    1|\n",
      "|         1|['ask', 'well', '...|(87968,[1,4,8,9,1...|    0|\n",
      "|         2|['big', 'fan', 'f...|(87968,[1,3,4,5,7...|    1|\n",
      "|         3|['finish', 'read'...|(87968,[1,3,5,10,...|    0|\n",
      "|         4|['greg', 'davis',...|(87968,[2,5,15,68...|    0|\n",
      "+----------+--------------------+--------------------+-----+\n",
      "only showing top 5 rows\n",
      "\n"
     ]
    }
   ],
   "source": [
    "bow = spark.createDataFrame(bow_df)\n",
    "bow.show(5)"
   ]
  },
  {
   "cell_type": "markdown",
   "metadata": {},
   "source": [
    "## Regression Logistique"
   ]
  },
  {
   "cell_type": "code",
   "execution_count": 34,
   "metadata": {},
   "outputs": [
    {
     "name": "stdout",
     "output_type": "stream",
     "text": [
      "Accuracy: 0.8372124863088719\n",
      "Precision: 0.837452397775956\n",
      "Recall: 0.8372124863088719\n",
      "F1 Score: 0.8371907427702736\n"
     ]
    }
   ],
   "source": [
    "train_data, test_data = bow.randomSplit([0.7, 0.3], seed=RANDOM_SEED)\n",
    "lr = LogisticRegression(featuresCol=\"features\", labelCol=\"Label\")\n",
    "lr_model = lr.fit(train_data)\n",
    "predictions = lr_model.transform(test_data)\n",
    "\n",
    "\n",
    "# Évaluer les performances du modèle\n",
    "evaluator = MulticlassClassificationEvaluator(labelCol=\"Label\", predictionCol=\"prediction\")\n",
    "\n",
    "accuracy = evaluator.setMetricName(\"accuracy\").evaluate(predictions)\n",
    "print(\"Accuracy:\", accuracy)\n",
    "\n",
    "precision = evaluator.setMetricName(\"weightedPrecision\").evaluate(predictions)\n",
    "print(\"Precision:\", precision)\n",
    "\n",
    "recall = evaluator.setMetricName(\"weightedRecall\").evaluate(predictions)\n",
    "print(\"Recall:\", recall)\n",
    "\n",
    "f1 = evaluator.setMetricName(\"f1\").evaluate(predictions)\n",
    "print(\"F1 Score:\", f1)"
   ]
  },
  {
   "cell_type": "code",
   "execution_count": 35,
   "metadata": {},
   "outputs": [
    {
     "name": "stdout",
     "output_type": "stream",
     "text": [
      "AUC: 0.8372468809336789\n"
     ]
    },
    {
     "data": {
      "image/png": "[encoded data removed]",
      "text/plain": [
       "<Figure size 432x288 with 1 Axes>"
      ]
     },
     "metadata": {
      "needs_background": "light"
     },
     "output_type": "display_data"
    }
   ],
   "source": [
    "binary_evaluator = BinaryClassificationEvaluator(labelCol=\"Label\", rawPredictionCol=\"prediction\")\n",
    "\n",
    "auc = binary_evaluator.evaluate(predictions, {binary_evaluator.metricName: \"areaUnderROC\"})\n",
    "print(\"AUC:\", auc)\n",
    "\n",
    "roc = predictions.select(\"Label\", \"probability\").rdd.map(lambda row: (float(row[\"probability\"][1]), float(row[\"Label\"]))).collect()\n",
    "roc_df = pd.DataFrame(roc, columns=[\"score\", \"label\"])\n",
    "fpr, tpr, thresholds = roc_curve(roc_df[\"label\"], roc_df[\"score\"])\n",
    "\n",
    "plt.plot(fpr, tpr)\n",
    "plt.xlabel(\"False Positive Rate\")\n",
    "plt.ylabel(\"True Positive Rate\")\n",
    "plt.title(\"ROC Curve\")\n",
    "plt.show()"
   ]
  },
  {
   "cell_type": "markdown",
   "metadata": {},
   "source": [
    "## svm"
   ]
  },
  {
   "cell_type": "code",
   "execution_count": 12,
   "metadata": {},
   "outputs": [
    {
     "name": "stdout",
     "output_type": "stream",
     "text": [
      "Accuracy: 0.8681544359255202\n",
      "Precision: 0.8683345850433632\n",
      "Recall: 0.8681544359255202\n",
      "F1 Score: 0.8681429159532089\n"
     ]
    }
   ],
   "source": [
    "svm = LinearSVC(featuresCol=\"features\", labelCol=\"Label\")\n",
    "svm_model = svm.fit(train_data)\n",
    "predictions = svm_model.transform(test_data)\n",
    "\n",
    "# Évaluer les performances du modèle\n",
    "evaluator = MulticlassClassificationEvaluator(labelCol=\"Label\", predictionCol=\"prediction\")\n",
    "\n",
    "accuracy = evaluator.setMetricName(\"accuracy\").evaluate(predictions)\n",
    "print(\"Accuracy:\", accuracy)\n",
    "\n",
    "precision = evaluator.setMetricName(\"weightedPrecision\").evaluate(predictions)\n",
    "print(\"Precision:\", precision)\n",
    "\n",
    "recall = evaluator.setMetricName(\"weightedRecall\").evaluate(predictions)\n",
    "print(\"Recall:\", recall)\n",
    "\n",
    "f1 = evaluator.setMetricName(\"f1\").evaluate(predictions)\n",
    "print(\"F1 Score:\", f1)"
   ]
  },
  {
   "cell_type": "code",
   "execution_count": 13,
   "metadata": {},
   "outputs": [
    {
     "name": "stdout",
     "output_type": "stream",
     "text": [
      "AUC: 0.9347369544164494\n"
     ]
    },
    {
     "data": {
      "image/png": "[encoded data removed]",
      "text/plain": [
       "<Figure size 432x288 with 1 Axes>"
      ]
     },
     "metadata": {
      "needs_background": "light"
     },
     "output_type": "display_data"
    }
   ],
   "source": [
    "binary_evaluator = BinaryClassificationEvaluator(labelCol=\"Label\", rawPredictionCol=\"rawPrediction\")\n",
    "\n",
    "# AUC\n",
    "auc = binary_evaluator.evaluate(predictions, {binary_evaluator.metricName: \"areaUnderROC\"})\n",
    "print(\"AUC:\", auc)\n",
    "\n",
    "# Pour obtenir les points de la courbe ROC, nous devons extraire les scores de décision et les labels\n",
    "roc = predictions.select(\"Label\", \"rawPrediction\").rdd.map(lambda row: (float(row[\"rawPrediction\"][1]), float(row[\"Label\"]))).collect()\n",
    "roc_df = pd.DataFrame(roc, columns=[\"score\", \"label\"])\n",
    "\n",
    "# Calcul des points de la courbe ROC\n",
    "fpr, tpr, thresholds = roc_curve(roc_df[\"label\"], roc_df[\"score\"])\n",
    "\n",
    "# Tracer la courbe ROC avec pandas et matplotlib\n",
    "roc_points_df = pd.DataFrame({'False Positive Rate': fpr, 'True Positive Rate': tpr, 'Thresholds': thresholds})\n",
    "\n",
    "# Tracer la courbe ROC\n",
    "roc_points_df.plot(x='False Positive Rate', y='True Positive Rate', kind='line', title='ROC Curve', grid=True)\n",
    "plt.xlabel(\"False Positive Rate\")\n",
    "plt.ylabel(\"True Positive Rate\")\n",
    "plt.show()"
   ]
  },
  {
   "cell_type": "markdown",
   "metadata": {},
   "source": [
    "## Naive Bayes"
   ]
  },
  {
   "cell_type": "code",
   "execution_count": 15,
   "metadata": {},
   "outputs": [
    {
     "name": "stdout",
     "output_type": "stream",
     "text": [
      "Accuracy: 0.8556955093099672\n",
      "Precision: 0.8566608376067925\n",
      "Recall: 0.8556955093099672\n",
      "F1 Score: 0.8555853144245562\n"
     ]
    }
   ],
   "source": [
    "nb = NaiveBayes(featuresCol=\"features\", labelCol=\"Label\")\n",
    "nb_model = nb.fit(train_data)\n",
    "predictions = nb_model.transform(test_data)\n",
    "\n",
    "\n",
    "# Évaluer les performances du modèle\n",
    "evaluator = MulticlassClassificationEvaluator(labelCol=\"Label\", predictionCol=\"prediction\")\n",
    "\n",
    "accuracy = evaluator.setMetricName(\"accuracy\").evaluate(predictions)\n",
    "print(\"Accuracy:\", accuracy)\n",
    "\n",
    "precision = evaluator.setMetricName(\"weightedPrecision\").evaluate(predictions)\n",
    "print(\"Precision:\", precision)\n",
    "\n",
    "recall = evaluator.setMetricName(\"weightedRecall\").evaluate(predictions)\n",
    "print(\"Recall:\", recall)\n",
    "\n",
    "f1 = evaluator.setMetricName(\"f1\").evaluate(predictions)\n",
    "print(\"F1 Score:\", f1)"
   ]
  },
  {
   "cell_type": "code",
   "execution_count": 18,
   "metadata": {},
   "outputs": [
    {
     "name": "stdout",
     "output_type": "stream",
     "text": [
      "AUC: 0.8556224471403023\n"
     ]
    },
    {
     "data": {
      "image/png": "[encoded data removed]",
      "text/plain": [
       "<Figure size 432x288 with 1 Axes>"
      ]
     },
     "metadata": {
      "needs_background": "light"
     },
     "output_type": "display_data"
    }
   ],
   "source": [
    "binary_evaluator = BinaryClassificationEvaluator(labelCol=\"Label\", rawPredictionCol=\"prediction\")\n",
    "\n",
    "auc = binary_evaluator.evaluate(predictions, {binary_evaluator.metricName: \"areaUnderROC\"})\n",
    "print(\"AUC:\", auc)\n",
    "\n",
    "roc = predictions.select(\"Label\", \"probability\").rdd.map(lambda row: (float(row[\"probability\"][1]), float(row[\"Label\"]))).collect()\n",
    "roc_df = pd.DataFrame(roc, columns=[\"score\", \"label\"])\n",
    "\n",
    "fpr, tpr, thresholds = roc_curve(roc_df[\"label\"], roc_df[\"score\"])\n",
    "\n",
    "plt.plot(fpr, tpr)\n",
    "plt.xlabel(\"False Positive Rate\")\n",
    "plt.ylabel(\"True Positive Rate\")\n",
    "plt.title(\"ROC Curve\")\n",
    "plt.show()"
   ]
  },
  {
   "cell_type": "markdown",
   "metadata": {},
   "source": [
    "# TF IDF"
   ]
  },
  {
   "cell_type": "code",
   "execution_count": 43,
   "metadata": {},
   "outputs": [],
   "source": [
    "TFIDF_df=pd.read_csv(PROCESSED_DATA_PATH+\"TFIDF_df.csv\")"
   ]
  },
  {
   "cell_type": "code",
   "execution_count": 49,
   "metadata": {},
   "outputs": [
    {
     "name": "stdout",
     "output_type": "stream",
     "text": [
      "+----------+--------------------+--------------------+-----+\n",
      "|Unnamed: 0|        tokens_array|            features|Label|\n",
      "+----------+--------------------+--------------------+-----+\n",
      "|         0|['panic', 'street...|(262144,[1603,188...|    1|\n",
      "|         1|['ask', 'well', '...|(262144,[4757,636...|    0|\n",
      "|         2|['big', 'fan', 'f...|(262144,[5451,799...|    1|\n",
      "|         3|['finish', 'read'...|(262144,[2701,853...|    0|\n",
      "|         4|['greg', 'davis',...|(262144,[619,1729...|    0|\n",
      "+----------+--------------------+--------------------+-----+\n",
      "only showing top 5 rows\n",
      "\n"
     ]
    }
   ],
   "source": [
    "TFIDF=spark.createDataFrame(TFIDF_df)\n",
    "TFIDF.show(5)"
   ]
  },
  {
   "cell_type": "markdown",
   "metadata": {},
   "source": [
    "## Regression Logistique"
   ]
  },
  {
   "cell_type": "code",
   "execution_count": 36,
   "metadata": {},
   "outputs": [
    {
     "name": "stdout",
     "output_type": "stream",
     "text": [
      "Accuracy: 0.8396768893756845\n",
      "Precision: 0.839821429576788\n",
      "Recall: 0.8396768893756845\n",
      "F1 Score: 0.83966526161194\n"
     ]
    }
   ],
   "source": [
    "train_data, test_data = TFIDF.randomSplit([0.7, 0.3], seed=RANDOM_SEED)\n",
    "lr = LogisticRegression(featuresCol=\"features\", labelCol=\"Label\")\n",
    "lr_model = lr.fit(train_data)\n",
    "predictions = lr_model.transform(test_data)\n",
    "evaluator = MulticlassClassificationEvaluator(labelCol=\"Label\", predictionCol=\"prediction\")\n",
    "\n",
    "# metrics\n",
    "accuracy = evaluator.setMetricName(\"accuracy\").evaluate(predictions)\n",
    "print(\"Accuracy:\", accuracy)\n",
    "\n",
    "precision = evaluator.setMetricName(\"weightedPrecision\").evaluate(predictions)\n",
    "print(\"Precision:\", precision)\n",
    "\n",
    "recall = evaluator.setMetricName(\"weightedRecall\").evaluate(predictions)\n",
    "print(\"Recall:\", recall)\n",
    "\n",
    "f1 = evaluator.setMetricName(\"f1\").evaluate(predictions)\n",
    "print(\"F1 Score:\", f1)\n"
   ]
  },
  {
   "cell_type": "code",
   "execution_count": 37,
   "metadata": {
    "scrolled": true
   },
   "outputs": [
    {
     "name": "stdout",
     "output_type": "stream",
     "text": [
      "AUC: 0.8397030547490276\n"
     ]
    },
    {
     "data": {
      "image/png": "[encoded data removed]",
      "text/plain": [
       "<Figure size 432x288 with 1 Axes>"
      ]
     },
     "metadata": {
      "needs_background": "light"
     },
     "output_type": "display_data"
    }
   ],
   "source": [
    "# Utilisation de BinaryClassificationEvaluator pour AUC et ROC\n",
    "binary_evaluator = BinaryClassificationEvaluator(labelCol=\"Label\", rawPredictionCol=\"prediction\")\n",
    "\n",
    "auc = binary_evaluator.evaluate(predictions, {binary_evaluator.metricName: \"areaUnderROC\"})\n",
    "print(\"AUC:\", auc)\n",
    "\n",
    "roc = predictions.select(\"Label\", \"probability\").rdd.map(lambda row: (float(row[\"probability\"][1]), float(row[\"Label\"]))).collect()\n",
    "roc_df = pd.DataFrame(roc, columns=[\"score\", \"label\"])\n",
    "fpr, tpr, thresholds = roc_curve(roc_df[\"label\"], roc_df[\"score\"])\n",
    "\n",
    "plt.plot(fpr, tpr)\n",
    "plt.xlabel(\"False Positive Rate\")\n",
    "plt.ylabel(\"True Positive Rate\")\n",
    "plt.title(\"ROC Curve\")\n",
    "plt.show()"
   ]
  },
  {
   "cell_type": "markdown",
   "metadata": {},
   "source": [
    "# SVM"
   ]
  },
  {
   "cell_type": "code",
   "execution_count": 38,
   "metadata": {},
   "outputs": [
    {
     "name": "stdout",
     "output_type": "stream",
     "text": [
      "Accuracy: 0.8629518072289156\n",
      "Precision: 0.8630115445058051\n",
      "Recall: 0.8629518072289157\n",
      "F1 Score: 0.8629489171520449\n"
     ]
    }
   ],
   "source": [
    "svm = LinearSVC(featuresCol=\"features\", labelCol=\"Label\")\n",
    "svm_model = svm.fit(train_data)\n",
    "predictions = svm_model.transform(test_data)\n",
    "\n",
    "# Évaluer les performances du modèle\n",
    "evaluator = MulticlassClassificationEvaluator(labelCol=\"Label\", predictionCol=\"prediction\")\n",
    "\n",
    "accuracy = evaluator.setMetricName(\"accuracy\").evaluate(predictions)\n",
    "print(\"Accuracy:\", accuracy)\n",
    "\n",
    "precision = evaluator.setMetricName(\"weightedPrecision\").evaluate(predictions)\n",
    "print(\"Precision:\", precision)\n",
    "\n",
    "recall = evaluator.setMetricName(\"weightedRecall\").evaluate(predictions)\n",
    "print(\"Recall:\", recall)\n",
    "\n",
    "f1 = evaluator.setMetricName(\"f1\").evaluate(predictions)\n",
    "print(\"F1 Score:\", f1)"
   ]
  },
  {
   "cell_type": "code",
   "execution_count": 40,
   "metadata": {
    "scrolled": true
   },
   "outputs": [
    {
     "name": "stdout",
     "output_type": "stream",
     "text": [
      "AUC: 0.9302849800449942\n"
     ]
    },
    {
     "data": {
      "image/png": "[encoded data removed]",
      "text/plain": [
       "<Figure size 432x288 with 1 Axes>"
      ]
     },
     "metadata": {
      "needs_background": "light"
     },
     "output_type": "display_data"
    }
   ],
   "source": [
    "binary_evaluator = BinaryClassificationEvaluator(labelCol=\"Label\", rawPredictionCol=\"rawPrediction\")\n",
    "\n",
    "auc = binary_evaluator.evaluate(predictions, {binary_evaluator.metricName: \"areaUnderROC\"})\n",
    "print(\"AUC:\", auc)\n",
    "\n",
    "roc = predictions.select(\"Label\", \"rawPrediction\").rdd.map(lambda row: (float(row[\"rawPrediction\"][1]), float(row[\"Label\"]))).collect()\n",
    "roc_df = pd.DataFrame(roc, columns=[\"score\", \"label\"])\n",
    "\n",
    "fpr, tpr, thresholds = roc_curve(roc_df[\"label\"], roc_df[\"score\"])\n",
    "roc_points_df = pd.DataFrame({'False Positive Rate': fpr, 'True Positive Rate': tpr, 'Thresholds': thresholds})\n",
    "roc_points_df.plot(x='False Positive Rate', y='True Positive Rate', kind='line', title='ROC Curve', grid=True)\n",
    "plt.xlabel(\"False Positive Rate\")\n",
    "plt.ylabel(\"True Positive Rate\")\n",
    "plt.show()"
   ]
  },
  {
   "cell_type": "markdown",
   "metadata": {},
   "source": [
    "## NaiveBayes"
   ]
  },
  {
   "cell_type": "code",
   "execution_count": 41,
   "metadata": {},
   "outputs": [
    {
     "name": "stdout",
     "output_type": "stream",
     "text": [
      "Accuracy: 0.8248904709748083\n",
      "Precision: 0.8259511790261185\n",
      "Recall: 0.8248904709748084\n",
      "F1 Score: 0.824730324530561\n"
     ]
    }
   ],
   "source": [
    "nb = NaiveBayes(featuresCol=\"features\", labelCol=\"Label\")\n",
    "nb_model = nb.fit(train_data)\n",
    "predictions = nb_model.transform(test_data)\n",
    "\n",
    "# Évaluer les performances du modèle\n",
    "evaluator = MulticlassClassificationEvaluator(labelCol=\"Label\", predictionCol=\"prediction\")\n",
    "\n",
    "accuracy = evaluator.setMetricName(\"accuracy\").evaluate(predictions)\n",
    "print(\"Accuracy:\", accuracy)\n",
    "\n",
    "precision = evaluator.setMetricName(\"weightedPrecision\").evaluate(predictions)\n",
    "print(\"Precision:\", precision)\n",
    "\n",
    "recall = evaluator.setMetricName(\"weightedRecall\").evaluate(predictions)\n",
    "print(\"Recall:\", recall)\n",
    "\n",
    "f1 = evaluator.setMetricName(\"f1\").evaluate(predictions)\n",
    "print(\"F1 Score:\", f1)"
   ]
  },
  {
   "cell_type": "code",
   "execution_count": 42,
   "metadata": {},
   "outputs": [
    {
     "name": "stdout",
     "output_type": "stream",
     "text": [
      "AUC: 0.8248100547919157\n"
     ]
    },
    {
     "data": {
      "image/png": "[encoded data removed]",
      "text/plain": [
       "<Figure size 432x288 with 1 Axes>"
      ]
     },
     "metadata": {
      "needs_background": "light"
     },
     "output_type": "display_data"
    }
   ],
   "source": [
    "binary_evaluator = BinaryClassificationEvaluator(labelCol=\"Label\", rawPredictionCol=\"prediction\")\n",
    "auc = binary_evaluator.evaluate(predictions, {binary_evaluator.metricName: \"areaUnderROC\"})\n",
    "print(\"AUC:\", auc)\n",
    "\n",
    "roc = predictions.select(\"Label\", \"probability\").rdd.map(lambda row: (float(row[\"probability\"][1]), float(row[\"Label\"]))).collect()\n",
    "roc_df = pd.DataFrame(roc, columns=[\"score\", \"label\"])\n",
    "\n",
    "fpr, tpr, thresholds = roc_curve(roc_df[\"label\"], roc_df[\"score\"])\n",
    "\n",
    "plt.plot(fpr, tpr)\n",
    "plt.xlabel(\"False Positive Rate\")\n",
    "plt.ylabel(\"True Positive Rate\")\n",
    "plt.title(\"ROC Curve\")\n",
    "plt.show()"
   ]
  }
 ],
 "metadata": {
  "kernelspec": {
   "display_name": "Python 3",
   "language": "python",
   "name": "python3"
  },
  "language_info": {
   "codemirror_mode": {
    "name": "ipython",
    "version": 3
   },
   "file_extension": ".py",
   "mimetype": "text/x-python",
   "name": "python",
   "nbconvert_exporter": "python",
   "pygments_lexer": "ipython3",
   "version": "3.8.10"
  }
 },
 "nbformat": 4,
 "nbformat_minor": 2
}
