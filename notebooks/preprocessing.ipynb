{
 "cells": [
  {
   "cell_type": "markdown",
   "metadata": {},
   "source": [
    "---\n",
    "# Preprocessing\n",
    "---"
   ]
  },
  {
   "cell_type": "markdown",
   "metadata": {},
   "source": [
    "### Load libraries and data"
   ]
  },
  {
   "cell_type": "code",
   "execution_count": 2,
   "metadata": {},
   "outputs": [],
   "source": [
    "import pandas as pd\n",
    "from pathlib import Path\n",
    "import spacy \n",
    "from sklearn.feature_extraction.text import CountVectorizer, TfidfVectorizer"
   ]
  },
  {
   "cell_type": "code",
   "execution_count": 15,
   "metadata": {},
   "outputs": [],
   "source": [
    "DATA_PATH=\"../data/raw/aclImdb_v1/aclImdb/train/\"\n",
    "PROCESSED_DATA_PATH=\"../data/processed/\"\n",
    "RANDOM_SEED=42"
   ]
  },
  {
   "cell_type": "code",
   "execution_count": 4,
   "metadata": {},
   "outputs": [],
   "source": [
    "columns=[\"Review\", \"Label\"]\n",
    "df = pd.DataFrame(columns=columns)"
   ]
  },
  {
   "cell_type": "markdown",
   "metadata": {},
   "source": [
    "Add positive reviews"
   ]
  },
  {
   "cell_type": "code",
   "execution_count": 5,
   "metadata": {},
   "outputs": [],
   "source": [
    "p = Path(DATA_PATH ) / 'pos'\n",
    "for file_path in p.iterdir():\n",
    "    with file_path.open('r') as file:\n",
    "        new_row={'Review':file.read(), 'Label':1}\n",
    "        df.loc[len(df)]=new_row"
   ]
  },
  {
   "cell_type": "markdown",
   "metadata": {},
   "source": [
    "Add negative reviews"
   ]
  },
  {
   "cell_type": "code",
   "execution_count": 6,
   "metadata": {},
   "outputs": [],
   "source": [
    "p = Path(DATA_PATH) / 'neg'\n",
    "for file_path in p.iterdir():\n",
    "    with file_path.open('r') as file:\n",
    "        new_raw={'Review':file.read(), 'Label':1}"
   ]
  },
  {
   "cell_type": "code",
   "execution_count": 7,
   "metadata": {},
   "outputs": [
    {
     "data": {
      "text/html": [
       "<div>\n",
       "<style scoped>\n",
       "    .dataframe tbody tr th:only-of-type {\n",
       "        vertical-align: middle;\n",
       "    }\n",
       "\n",
       "    .dataframe tbody tr th {\n",
       "        vertical-align: top;\n",
       "    }\n",
       "\n",
       "    .dataframe thead th {\n",
       "        text-align: right;\n",
       "    }\n",
       "</style>\n",
       "<table border=\"1\" class=\"dataframe\">\n",
       "  <thead>\n",
       "    <tr style=\"text-align: right;\">\n",
       "      <th></th>\n",
       "      <th>Review</th>\n",
       "      <th>Label</th>\n",
       "    </tr>\n",
       "  </thead>\n",
       "  <tbody>\n",
       "    <tr>\n",
       "      <th>0</th>\n",
       "      <td>I came in in the middle of this film so I had ...</td>\n",
       "      <td>1</td>\n",
       "    </tr>\n",
       "    <tr>\n",
       "      <th>1</th>\n",
       "      <td>Clint Eastwood reprises his role as Dirty Harr...</td>\n",
       "      <td>1</td>\n",
       "    </tr>\n",
       "    <tr>\n",
       "      <th>2</th>\n",
       "      <td>Okay this movie fine like I said but you surel...</td>\n",
       "      <td>1</td>\n",
       "    </tr>\n",
       "    <tr>\n",
       "      <th>3</th>\n",
       "      <td>When a small hobbit named Frodo Baggins inheri...</td>\n",
       "      <td>1</td>\n",
       "    </tr>\n",
       "    <tr>\n",
       "      <th>4</th>\n",
       "      <td>This film was made in 1943 when i think Judy w...</td>\n",
       "      <td>1</td>\n",
       "    </tr>\n",
       "  </tbody>\n",
       "</table>\n",
       "</div>"
      ],
      "text/plain": [
       "                                              Review  Label\n",
       "0  I came in in the middle of this film so I had ...      1\n",
       "1  Clint Eastwood reprises his role as Dirty Harr...      1\n",
       "2  Okay this movie fine like I said but you surel...      1\n",
       "3  When a small hobbit named Frodo Baggins inheri...      1\n",
       "4  This film was made in 1943 when i think Judy w...      1"
      ]
     },
     "execution_count": 7,
     "metadata": {},
     "output_type": "execute_result"
    }
   ],
   "source": [
    "df.head(5)"
   ]
  },
  {
   "cell_type": "markdown",
   "metadata": {},
   "source": [
    "### Preprocessing data"
   ]
  },
  {
   "cell_type": "markdown",
   "metadata": {},
   "source": [
    "lowercase text"
   ]
  },
  {
   "cell_type": "code",
   "execution_count": 8,
   "metadata": {},
   "outputs": [],
   "source": [
    "def lower_case(text):\n",
    "    return text.lower()\n",
    "\n",
    "df['Review'] = df['Review'].apply(lower_case)"
   ]
  },
  {
   "cell_type": "code",
   "execution_count": 9,
   "metadata": {},
   "outputs": [
    {
     "data": {
      "text/html": [
       "<div>\n",
       "<style scoped>\n",
       "    .dataframe tbody tr th:only-of-type {\n",
       "        vertical-align: middle;\n",
       "    }\n",
       "\n",
       "    .dataframe tbody tr th {\n",
       "        vertical-align: top;\n",
       "    }\n",
       "\n",
       "    .dataframe thead th {\n",
       "        text-align: right;\n",
       "    }\n",
       "</style>\n",
       "<table border=\"1\" class=\"dataframe\">\n",
       "  <thead>\n",
       "    <tr style=\"text-align: right;\">\n",
       "      <th></th>\n",
       "      <th>Review</th>\n",
       "      <th>Label</th>\n",
       "    </tr>\n",
       "  </thead>\n",
       "  <tbody>\n",
       "    <tr>\n",
       "      <th>0</th>\n",
       "      <td>i came in in the middle of this film so i had ...</td>\n",
       "      <td>1</td>\n",
       "    </tr>\n",
       "    <tr>\n",
       "      <th>1</th>\n",
       "      <td>clint eastwood reprises his role as dirty harr...</td>\n",
       "      <td>1</td>\n",
       "    </tr>\n",
       "    <tr>\n",
       "      <th>2</th>\n",
       "      <td>okay this movie fine like i said but you surel...</td>\n",
       "      <td>1</td>\n",
       "    </tr>\n",
       "    <tr>\n",
       "      <th>3</th>\n",
       "      <td>when a small hobbit named frodo baggins inheri...</td>\n",
       "      <td>1</td>\n",
       "    </tr>\n",
       "    <tr>\n",
       "      <th>4</th>\n",
       "      <td>this film was made in 1943 when i think judy w...</td>\n",
       "      <td>1</td>\n",
       "    </tr>\n",
       "  </tbody>\n",
       "</table>\n",
       "</div>"
      ],
      "text/plain": [
       "                                              Review  Label\n",
       "0  i came in in the middle of this film so i had ...      1\n",
       "1  clint eastwood reprises his role as dirty harr...      1\n",
       "2  okay this movie fine like i said but you surel...      1\n",
       "3  when a small hobbit named frodo baggins inheri...      1\n",
       "4  this film was made in 1943 when i think judy w...      1"
      ]
     },
     "execution_count": 9,
     "metadata": {},
     "output_type": "execute_result"
    }
   ],
   "source": [
    "df.head()"
   ]
  },
  {
   "cell_type": "markdown",
   "metadata": {},
   "source": [
    "Tokenization and lemmatization"
   ]
  },
  {
   "cell_type": "code",
   "execution_count": 10,
   "metadata": {},
   "outputs": [],
   "source": [
    "nlp=spacy.load('en_core_web_sm')"
   ]
  },
  {
   "cell_type": "code",
   "execution_count": 11,
   "metadata": {},
   "outputs": [],
   "source": [
    "def tokenize_text(text):\n",
    "    doc = nlp(text)\n",
    "    tokens = [token.lemma_ for token in doc if not token.is_stop and not token.is_punct and not any(char.isdigit() for char in token.text)]\n",
    "    return ' '.join(token for token in tokens)\n",
    "\n",
    "# Apply tokenization to each row in the DataFrame\n",
    "df['tokens'] = df['Review'].apply(tokenize_text)\n"
   ]
  },
  {
   "cell_type": "code",
   "execution_count": 12,
   "metadata": {},
   "outputs": [
    {
     "data": {
      "text/html": [
       "<div>\n",
       "<style scoped>\n",
       "    .dataframe tbody tr th:only-of-type {\n",
       "        vertical-align: middle;\n",
       "    }\n",
       "\n",
       "    .dataframe tbody tr th {\n",
       "        vertical-align: top;\n",
       "    }\n",
       "\n",
       "    .dataframe thead th {\n",
       "        text-align: right;\n",
       "    }\n",
       "</style>\n",
       "<table border=\"1\" class=\"dataframe\">\n",
       "  <thead>\n",
       "    <tr style=\"text-align: right;\">\n",
       "      <th></th>\n",
       "      <th>Review</th>\n",
       "      <th>Label</th>\n",
       "      <th>tokens</th>\n",
       "    </tr>\n",
       "  </thead>\n",
       "  <tbody>\n",
       "    <tr>\n",
       "      <th>0</th>\n",
       "      <td>i came in in the middle of this film so i had ...</td>\n",
       "      <td>1</td>\n",
       "      <td>come middle film idea credit title till look r...</td>\n",
       "    </tr>\n",
       "    <tr>\n",
       "      <th>1</th>\n",
       "      <td>clint eastwood reprises his role as dirty harr...</td>\n",
       "      <td>1</td>\n",
       "      <td>clint eastwood reprise role dirty harry time c...</td>\n",
       "    </tr>\n",
       "    <tr>\n",
       "      <th>2</th>\n",
       "      <td>okay this movie fine like i said but you surel...</td>\n",
       "      <td>1</td>\n",
       "      <td>okay movie fine like say surely need watch wor...</td>\n",
       "    </tr>\n",
       "    <tr>\n",
       "      <th>3</th>\n",
       "      <td>when a small hobbit named frodo baggins inheri...</td>\n",
       "      <td>1</td>\n",
       "      <td>small hobbit name frodo baggin inherit magic r...</td>\n",
       "    </tr>\n",
       "    <tr>\n",
       "      <th>4</th>\n",
       "      <td>this film was made in 1943 when i think judy w...</td>\n",
       "      <td>1</td>\n",
       "      <td>film think judy peak look wise previous film g...</td>\n",
       "    </tr>\n",
       "  </tbody>\n",
       "</table>\n",
       "</div>"
      ],
      "text/plain": [
       "                                              Review  Label  \\\n",
       "0  i came in in the middle of this film so i had ...      1   \n",
       "1  clint eastwood reprises his role as dirty harr...      1   \n",
       "2  okay this movie fine like i said but you surel...      1   \n",
       "3  when a small hobbit named frodo baggins inheri...      1   \n",
       "4  this film was made in 1943 when i think judy w...      1   \n",
       "\n",
       "                                              tokens  \n",
       "0  come middle film idea credit title till look r...  \n",
       "1  clint eastwood reprise role dirty harry time c...  \n",
       "2  okay movie fine like say surely need watch wor...  \n",
       "3  small hobbit name frodo baggin inherit magic r...  \n",
       "4  film think judy peak look wise previous film g...  "
      ]
     },
     "execution_count": 12,
     "metadata": {},
     "output_type": "execute_result"
    }
   ],
   "source": [
    "df.head()"
   ]
  },
  {
   "cell_type": "markdown",
   "metadata": {},
   "source": [
    "### Vectorization"
   ]
  },
  {
   "cell_type": "markdown",
   "metadata": {},
   "source": [
    "Bag of Words"
   ]
  },
  {
   "cell_type": "code",
   "execution_count": 13,
   "metadata": {},
   "outputs": [],
   "source": [
    "# Bag of Words\n",
    "count_vectorizer = CountVectorizer()\n",
    "bow_matrix = count_vectorizer.fit_transform(df['tokens'])\n",
    "bow_df = pd.DataFrame(bow_matrix.toarray(), columns=count_vectorizer.get_feature_names_out())\n",
    "bow_df[\"Label\"]=df[\"Label\"]"
   ]
  },
  {
   "cell_type": "code",
   "execution_count": 16,
   "metadata": {},
   "outputs": [],
   "source": [
    "bow_df.to_csv(PROCESSED_DATA_PATH + '/bow_df.csv', index=False)"
   ]
  },
  {
   "cell_type": "markdown",
   "metadata": {},
   "source": [
    "TF-IDF"
   ]
  },
  {
   "cell_type": "code",
   "execution_count": 14,
   "metadata": {},
   "outputs": [
    {
     "name": "stdout",
     "output_type": "stream",
     "text": [
      "TF-IDF representation:\n",
      "        _________  _____________________________________  \\\n",
      "0            0.0                                    0.0   \n",
      "1            0.0                                    0.0   \n",
      "2            0.0                                    0.0   \n",
      "3            0.0                                    0.0   \n",
      "4            0.0                                    0.0   \n",
      "...          ...                                    ...   \n",
      "12495        0.0                                    0.0   \n",
      "12496        0.0                                    0.0   \n",
      "12497        0.0                                    0.0   \n",
      "12498        0.0                                    0.0   \n",
      "12499        0.0                                    0.0   \n",
      "\n",
      "       __________________________________________________________________  \\\n",
      "0                                                    0.0                    \n",
      "1                                                    0.0                    \n",
      "2                                                    0.0                    \n",
      "3                                                    0.0                    \n",
      "4                                                    0.0                    \n",
      "...                                                  ...                    \n",
      "12495                                                0.0                    \n",
      "12496                                                0.0                    \n",
      "12497                                                0.0                    \n",
      "12498                                                0.0                    \n",
      "12499                                                0.0                    \n",
      "\n",
      "        aa  aaa  aaaaatch  aaaand  aaargh  aachen  aada  ...  émigré  émigrés  \\\n",
      "0      0.0  0.0       0.0     0.0     0.0     0.0   0.0  ...     0.0      0.0   \n",
      "1      0.0  0.0       0.0     0.0     0.0     0.0   0.0  ...     0.0      0.0   \n",
      "2      0.0  0.0       0.0     0.0     0.0     0.0   0.0  ...     0.0      0.0   \n",
      "3      0.0  0.0       0.0     0.0     0.0     0.0   0.0  ...     0.0      0.0   \n",
      "4      0.0  0.0       0.0     0.0     0.0     0.0   0.0  ...     0.0      0.0   \n",
      "...    ...  ...       ...     ...     ...     ...   ...  ...     ...      ...   \n",
      "12495  0.0  0.0       0.0     0.0     0.0     0.0   0.0  ...     0.0      0.0   \n",
      "12496  0.0  0.0       0.0     0.0     0.0     0.0   0.0  ...     0.0      0.0   \n",
      "12497  0.0  0.0       0.0     0.0     0.0     0.0   0.0  ...     0.0      0.0   \n",
      "12498  0.0  0.0       0.0     0.0     0.0     0.0   0.0  ...     0.0      0.0   \n",
      "12499  0.0  0.0       0.0     0.0     0.0     0.0   0.0  ...     0.0      0.0   \n",
      "\n",
      "       était  état  étc  êxtase   ís  østbye  über  Label  \n",
      "0        0.0   0.0  0.0     0.0  0.0     0.0   0.0      1  \n",
      "1        0.0   0.0  0.0     0.0  0.0     0.0   0.0      1  \n",
      "2        0.0   0.0  0.0     0.0  0.0     0.0   0.0      1  \n",
      "3        0.0   0.0  0.0     0.0  0.0     0.0   0.0      1  \n",
      "4        0.0   0.0  0.0     0.0  0.0     0.0   0.0      1  \n",
      "...      ...   ...  ...     ...  ...     ...   ...    ...  \n",
      "12495    0.0   0.0  0.0     0.0  0.0     0.0   0.0      1  \n",
      "12496    0.0   0.0  0.0     0.0  0.0     0.0   0.0      1  \n",
      "12497    0.0   0.0  0.0     0.0  0.0     0.0   0.0      1  \n",
      "12498    0.0   0.0  0.0     0.0  0.0     0.0   0.0      1  \n",
      "12499    0.0   0.0  0.0     0.0  0.0     0.0   0.0      1  \n",
      "\n",
      "[12500 rows x 46230 columns]\n"
     ]
    }
   ],
   "source": [
    "# TF-IDF\n",
    "tfidf_vectorizer = TfidfVectorizer()\n",
    "tfidf_matrix = tfidf_vectorizer.fit_transform(df['tokens'])\n",
    "tfidf_df = pd.DataFrame(tfidf_matrix.toarray(), columns=tfidf_vectorizer.get_feature_names_out())\n",
    "tfidf_df[\"Label\"]=df[\"Label\"]\n",
    "print(\"TF-IDF representation:\\n\", tfidf_df)"
   ]
  },
  {
   "cell_type": "code",
   "execution_count": 17,
   "metadata": {},
   "outputs": [],
   "source": [
    "tfidf_df.to_csv(PROCESSED_DATA_PATH + 'tfidf_df.csv', index=False)"
   ]
  }
 ],
 "metadata": {
  "kernelspec": {
   "display_name": "venv",
   "language": "python",
   "name": "python3"
  },
  "language_info": {
   "codemirror_mode": {
    "name": "ipython",
    "version": 3
   },
   "file_extension": ".py",
   "mimetype": "text/x-python",
   "name": "python",
   "nbconvert_exporter": "python",
   "pygments_lexer": "ipython3",
   "version": "3.10.12"
  }
 },
 "nbformat": 4,
 "nbformat_minor": 2
}
